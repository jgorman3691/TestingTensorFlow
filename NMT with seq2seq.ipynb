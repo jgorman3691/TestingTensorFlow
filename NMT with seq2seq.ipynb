{
 "cells": [
  {
   "cell_type": "code",
   "execution_count": 1,
   "metadata": {},
   "outputs": [
    {
     "output_type": "stream",
     "name": "stdout",
     "text": [
      "Requirement already satisfied: tf-nightly in c:\\users\\jedgo\\appdata\\roaming\\python\\python38\\site-packages (2.4.0.dev20201018)\n",
      "Requirement already satisfied: astunparse~=1.6.3 in c:\\users\\jedgo\\.conda\\envs\\fun\\lib\\site-packages (from tf-nightly) (1.6.3)\n",
      "Requirement already satisfied: flatbuffers~=1.12.0 in c:\\users\\jedgo\\appdata\\roaming\\python\\python38\\site-packages (from tf-nightly) (1.12)\n",
      "Requirement already satisfied: numpy~=1.19.2 in c:\\users\\jedgo\\.conda\\envs\\fun\\lib\\site-packages (from tf-nightly) (1.19.2)\n",
      "Requirement already satisfied: wheel~=0.35 in c:\\users\\jedgo\\.conda\\envs\\fun\\lib\\site-packages (from tf-nightly) (0.35.1)\n",
      "Requirement already satisfied: opt-einsum~=3.3.0 in c:\\users\\jedgo\\.conda\\envs\\fun\\lib\\site-packages (from tf-nightly) (3.3.0)\n",
      "Requirement already satisfied: wrapt~=1.12.1 in c:\\users\\jedgo\\.conda\\envs\\fun\\lib\\site-packages (from tf-nightly) (1.12.1)\n",
      "Requirement already satisfied: gast~=0.4 in c:\\users\\jedgo\\appdata\\roaming\\python\\python38\\site-packages (from tf-nightly) (0.4.0)\n",
      "Requirement already satisfied: keras-preprocessing~=1.1.2 in c:\\users\\jedgo\\.conda\\envs\\fun\\lib\\site-packages (from tf-nightly) (1.1.2)\n",
      "Requirement already satisfied: termcolor~=1.1.0 in c:\\users\\jedgo\\.conda\\envs\\fun\\lib\\site-packages (from tf-nightly) (1.1.0)\n",
      "Requirement already satisfied: six~=1.15.0 in c:\\users\\jedgo\\.conda\\envs\\fun\\lib\\site-packages (from tf-nightly) (1.15.0)\n",
      "Requirement already satisfied: typing-extensions~=3.7.4 in c:\\users\\jedgo\\.conda\\envs\\fun\\lib\\site-packages (from tf-nightly) (3.7.4.3)\n",
      "Requirement already satisfied: h5py~=2.10.0 in c:\\users\\jedgo\\.conda\\envs\\fun\\lib\\site-packages (from tf-nightly) (2.10.0)\n",
      "Requirement already satisfied: protobuf~=3.13.0 in c:\\users\\jedgo\\.conda\\envs\\fun\\lib\\site-packages (from tf-nightly) (3.13.0)\n",
      "Requirement already satisfied: tf-estimator-nightly~=2.4.0.dev in c:\\users\\jedgo\\appdata\\roaming\\python\\python38\\site-packages (from tf-nightly) (2.4.0.dev2020101801)\n",
      "Requirement already satisfied: google-pasta~=0.2 in c:\\users\\jedgo\\.conda\\envs\\fun\\lib\\site-packages (from tf-nightly) (0.2.0)\n",
      "Requirement already satisfied: absl-py~=0.10 in c:\\users\\jedgo\\.conda\\envs\\fun\\lib\\site-packages (from tf-nightly) (0.10.0)\n",
      "Requirement already satisfied: tb-nightly~=2.4.0.a in c:\\users\\jedgo\\appdata\\roaming\\python\\python38\\site-packages (from tf-nightly) (2.4.0a20201018)\n",
      "Requirement already satisfied: grpcio~=1.32.0 in c:\\users\\jedgo\\.conda\\envs\\fun\\lib\\site-packages (from tf-nightly) (1.32.0)\n",
      "Requirement already satisfied: setuptools in c:\\users\\jedgo\\.conda\\envs\\fun\\lib\\site-packages (from protobuf~=3.13.0->tf-nightly) (50.3.0.post20201006)\n",
      "Requirement already satisfied: google-auth-oauthlib<0.5,>=0.4.1 in c:\\users\\jedgo\\.conda\\envs\\fun\\lib\\site-packages (from tb-nightly~=2.4.0.a->tf-nightly) (0.4.1)\n",
      "Requirement already satisfied: markdown>=2.6.8 in c:\\users\\jedgo\\.conda\\envs\\fun\\lib\\site-packages (from tb-nightly~=2.4.0.a->tf-nightly) (3.2.2)\n",
      "Requirement already satisfied: google-auth<2,>=1.6.3 in c:\\users\\jedgo\\.conda\\envs\\fun\\lib\\site-packages (from tb-nightly~=2.4.0.a->tf-nightly) (1.22.1)\n",
      "Requirement already satisfied: requests<3,>=2.21.0 in c:\\users\\jedgo\\appdata\\roaming\\python\\python38\\site-packages (from tb-nightly~=2.4.0.a->tf-nightly) (2.24.0)\n",
      "Requirement already satisfied: werkzeug>=0.11.15 in c:\\users\\jedgo\\.conda\\envs\\fun\\lib\\site-packages (from tb-nightly~=2.4.0.a->tf-nightly) (1.0.1)\n",
      "Requirement already satisfied: tensorboard-plugin-wit>=1.6.0 in c:\\users\\jedgo\\.conda\\envs\\fun\\lib\\site-packages (from tb-nightly~=2.4.0.a->tf-nightly) (1.7.0)\n",
      "Requirement already satisfied: requests-oauthlib>=0.7.0 in c:\\users\\jedgo\\.conda\\envs\\fun\\lib\\site-packages (from google-auth-oauthlib<0.5,>=0.4.1->tb-nightly~=2.4.0.a->tf-nightly) (1.3.0)\n",
      "Requirement already satisfied: rsa<5,>=3.1.4; python_version >= \"3.5\" in c:\\users\\jedgo\\.conda\\envs\\fun\\lib\\site-packages (from google-auth<2,>=1.6.3->tb-nightly~=2.4.0.a->tf-nightly) (4.6)\n",
      "Requirement already satisfied: cachetools<5.0,>=2.0.0 in c:\\users\\jedgo\\.conda\\envs\\fun\\lib\\site-packages (from google-auth<2,>=1.6.3->tb-nightly~=2.4.0.a->tf-nightly) (4.1.1)\n",
      "Requirement already satisfied: pyasn1-modules>=0.2.1 in c:\\users\\jedgo\\.conda\\envs\\fun\\lib\\site-packages (from google-auth<2,>=1.6.3->tb-nightly~=2.4.0.a->tf-nightly) (0.2.8)\n",
      "Requirement already satisfied: chardet<4,>=3.0.2 in c:\\users\\jedgo\\appdata\\roaming\\python\\python38\\site-packages (from requests<3,>=2.21.0->tb-nightly~=2.4.0.a->tf-nightly) (3.0.4)\n",
      "Requirement already satisfied: urllib3!=1.25.0,!=1.25.1,<1.26,>=1.21.1 in c:\\users\\jedgo\\appdata\\roaming\\python\\python38\\site-packages (from requests<3,>=2.21.0->tb-nightly~=2.4.0.a->tf-nightly) (1.25.10)\n",
      "Requirement already satisfied: idna<3,>=2.5 in c:\\users\\jedgo\\appdata\\roaming\\python\\python38\\site-packages (from requests<3,>=2.21.0->tb-nightly~=2.4.0.a->tf-nightly) (2.10)\n",
      "Requirement already satisfied: certifi>=2017.4.17 in c:\\users\\jedgo\\appdata\\roaming\\python\\python38\\site-packages (from requests<3,>=2.21.0->tb-nightly~=2.4.0.a->tf-nightly) (2020.6.20)\n",
      "Requirement already satisfied: oauthlib>=3.0.0 in c:\\users\\jedgo\\.conda\\envs\\fun\\lib\\site-packages (from requests-oauthlib>=0.7.0->google-auth-oauthlib<0.5,>=0.4.1->tb-nightly~=2.4.0.a->tf-nightly) (3.1.0)\n",
      "Requirement already satisfied: pyasn1>=0.1.3 in c:\\users\\jedgo\\.conda\\envs\\fun\\lib\\site-packages (from rsa<5,>=3.1.4; python_version >= \"3.5\"->google-auth<2,>=1.6.3->tb-nightly~=2.4.0.a->tf-nightly) (0.4.8)\n"
     ]
    }
   ],
   "source": [
    "!pip install --user tf-nightly"
   ]
  },
  {
   "cell_type": "code",
   "execution_count": 2,
   "metadata": {},
   "outputs": [
    {
     "output_type": "stream",
     "name": "stderr",
     "text": [
      "fatal: destination path 'nmt' already exists and is not an empty directory.\n"
     ]
    }
   ],
   "source": [
    "!git clone https://github.com/tensorflow/nmt"
   ]
  },
  {
   "cell_type": "code",
   "execution_count": 3,
   "metadata": {},
   "outputs": [
    {
     "output_type": "stream",
     "name": "stderr",
     "text": [
      "C:\\Users\\jedgo\\.conda\\envs\\fun\\lib\\site-packages\\numpy\\_distributor_init.py:30: UserWarning: loaded more than 1 DLL from .libs:\nC:\\Users\\jedgo\\.conda\\envs\\fun\\lib\\site-packages\\numpy\\.libs\\libopenblas.NOIJJG62EMASZI6NYURL6JBKM4EVBGM7.gfortran-win_amd64.dll\nC:\\Users\\jedgo\\.conda\\envs\\fun\\lib\\site-packages\\numpy\\.libs\\libopenblas.PYQHXLVVQ7VESDPUVUADXEVJOBGHJPAY.gfortran-win_amd64.dll\n  warnings.warn(\"loaded more than 1 DLL from .libs:\\n%s\" %\n"
     ]
    }
   ],
   "source": [
    "import tensorflow as tf\n",
    "import matplotlib as plt\n",
    "import os\n",
    "import re\n",
    "import string\n",
    "import tensorboard as tb\n",
    "\n",
    "from tensorflow import keras\n",
    "from tensorflow.keras import Model, Sequential\n",
    "from tensorflow.keras.layers import Dense, ReLU, RNN, LSTM, Embedding"
   ]
  },
  {
   "cell_type": "code",
   "execution_count": 4,
   "metadata": {},
   "outputs": [
    {
     "output_type": "error",
     "ename": "NameError",
     "evalue": "name 'variable_scope' is not defined",
     "traceback": [
      "\u001b[1;31m---------------------------------------------------------------------------\u001b[0m",
      "\u001b[1;31mNameError\u001b[0m                                 Traceback (most recent call last)",
      "\u001b[1;32m<ipython-input-4-bd1726cfad80>\u001b[0m in \u001b[0;36m<module>\u001b[1;34m\u001b[0m\n\u001b[0;32m      1\u001b[0m \u001b[1;31m# Embedding\u001b[0m\u001b[1;33m\u001b[0m\u001b[1;33m\u001b[0m\u001b[1;33m\u001b[0m\u001b[0m\n\u001b[1;32m----> 2\u001b[1;33m embedding_encoder = variable_scope.get_variable(\n\u001b[0m\u001b[0;32m      3\u001b[0m     \"embedding encoder\", [src_vocab_size, embedding_size], ...)\n\u001b[0;32m      4\u001b[0m \u001b[1;33m\u001b[0m\u001b[0m\n\u001b[0;32m      5\u001b[0m \u001b[1;31m# Look up the embedding\u001b[0m\u001b[1;33m\u001b[0m\u001b[1;33m\u001b[0m\u001b[1;33m\u001b[0m\u001b[0m\n",
      "\u001b[1;31mNameError\u001b[0m: name 'variable_scope' is not defined"
     ]
    }
   ],
   "source": [
    "# Embedding\n",
    "embedding_encoder = variable_scope.get_variable(\n",
    "    \"embedding encoder\", [src_vocab_size, embedding_size], ...)\n",
    "\n",
    "# Look up the embedding\n",
    "# encoder_inputs: [max_time, batch_size]\n",
    "# encoder_emb_inp: [max_time, batch_size, embedding_size]\n",
    "encoder_emb_inp = embedding_ops.embedding_lookup(\n",
    "    embedding_encoder, encoder_inputs) \n"
   ]
  },
  {
   "cell_type": "code",
   "execution_count": 7,
   "metadata": {},
   "outputs": [
    {
     "ename": "NameError",
     "evalue": "name 'num_units' is not defined",
     "output_type": "error",
     "traceback": [
      "\u001b[1;31m---------------------------------------------------------------------------\u001b[0m",
      "\u001b[1;31mNameError\u001b[0m                                 Traceback (most recent call last)",
      "\u001b[1;32m<ipython-input-7-b42e2e705c33>\u001b[0m in \u001b[0;36m<module>\u001b[1;34m\u001b[0m\n\u001b[0;32m      1\u001b[0m \u001b[1;31m# Build RNN Cell\u001b[0m\u001b[1;33m\u001b[0m\u001b[1;33m\u001b[0m\u001b[1;33m\u001b[0m\u001b[0m\n\u001b[1;32m----> 2\u001b[1;33m \u001b[0mencoder_cell\u001b[0m \u001b[1;33m=\u001b[0m \u001b[0mtf\u001b[0m\u001b[1;33m.\u001b[0m\u001b[0mkeras\u001b[0m\u001b[1;33m.\u001b[0m\u001b[0mlayers\u001b[0m\u001b[1;33m.\u001b[0m\u001b[0mLSTM\u001b[0m\u001b[1;33m(\u001b[0m\u001b[0mnum_units\u001b[0m\u001b[1;33m)\u001b[0m\u001b[1;33m\u001b[0m\u001b[1;33m\u001b[0m\u001b[0m\n\u001b[0m\u001b[0;32m      3\u001b[0m \u001b[1;33m\u001b[0m\u001b[0m\n\u001b[0;32m      4\u001b[0m \u001b[1;31m# Run dynamic RNN\u001b[0m\u001b[1;33m\u001b[0m\u001b[1;33m\u001b[0m\u001b[1;33m\u001b[0m\u001b[0m\n\u001b[0;32m      5\u001b[0m \u001b[1;31m#   encoder_outputs: [max_time, batch_size, num_units]\u001b[0m\u001b[1;33m\u001b[0m\u001b[1;33m\u001b[0m\u001b[1;33m\u001b[0m\u001b[0m\n",
      "\u001b[1;31mNameError\u001b[0m: name 'num_units' is not defined"
     ]
    }
   ],
   "source": [
    "# Build RNN Cell\n",
    "encoder_cell = tf.keras.layers.LSTM(num_units)\n",
    "\n",
    "# Run dynamic RNN\n",
    "#   encoder_outputs: [max_time, batch_size, num_units]\n",
    "#   encoder_state: [batch_size, num_units]\n",
    "\n",
    "encoder_outputs, encoder_state = tf.keras.dynamic_rnn(\n",
    "    encoder_cell, encoder_emb_inp,\n",
    "    sequence_length=source_sequence_length, time_major=True)"
   ]
  },
  {
   "cell_type": "code",
   "execution_count": null,
   "metadata": {},
   "outputs": [],
   "source": [
    "# Build RNN Cell\n",
    "decoder_cell = tf.nn.rnn_cell.BasicLSTMCell(num_units)\n",
    "\n",
    "# Helper\n",
    "\n",
    "helper = tf.contrib.seq2seq.TrainingHelper(\n",
    "    decoder_emb_inp, decoder_lengths, time_major=-True)\n",
    "\n",
    "# Decoder\n",
    "\n",
    "decoder = tf.contrib.seq2seq.BasicDecoder(\n",
    "    decoder_cell, helper, encoder_state,\n",
    "    output_layer=projection_layer)\n",
    "\n",
    "# Dynamic decoding\n",
    "\n",
    "outputs, _ = tf.contrib.seq2seq.dynamic_decode(decode, ...)\n",
    "logits = outputs.rnn_output"
   ]
  },
  {
   "cell_type": "code",
   "execution_count": null,
   "metadata": {},
   "outputs": [],
   "source": [
    "projection_layer = layers_core.Dense(\n",
    "    tgt_vocab_size, use_bias=False)"
   ]
  },
  {
   "cell_type": "code",
   "execution_count": null,
   "metadata": {},
   "outputs": [],
   "source": [
    "# Loss\n",
    "\n",
    "crossent = tf.nn.sparse_softmax_cross_entropy_with_logits(\n",
    "    labels=decoder_outputs, logits=logits)\n",
    "train_loss = (tf.reduce_sum(crossent * target_weights) / batch_size)"
   ]
  },
  {
   "cell_type": "code",
   "execution_count": null,
   "metadata": {},
   "outputs": [],
   "source": [
    "# Calculate and Clip Gradients\n",
    "\n",
    "params = tf.trainable_variables()\n",
    "gradients = tf.gradients(train_loss, params)\n",
    "clipped_gradients, _ = tf.clip_by_global_norm(gradients, max_gradiant_norm)\n",
    "\n",
    "# Optimization\n",
    "\n",
    "optimizer = tf.train.AdamOptimizer(learning_rate)\n",
    "update_step = optimizer.apply_gradients(zip(clipped_gradients, params))"
   ]
  },
  {
   "cell_type": "code",
   "execution_count": null,
   "metadata": {},
   "outputs": [],
   "source": [
    "nmt/scripts/download_iwslt15.sh /tmp/nmt_data"
   ]
  },
  {
   "cell_type": "code",
   "execution_count": null,
   "metadata": {},
   "outputs": [],
   "source": [
    "mkdir /tmp/nmt_model\n",
    "python -m nmt.nmt \\\n",
    "    --src=vi --tgt=en \\\n",
    "    --vocab_prefix=/tmp/nmt_data/vocab  \\\n",
    "    --train_prefix=/tmp/nmt_data/train \\\n",
    "    --dev_prefix=/tmp/nmt_data/tst2012  \\\n",
    "    --test_prefix=/tmp/nmt_data/tst2013 \\\n",
    "    --out_dir=/tmp/nmt_model \\\n",
    "    --num_train_steps=12000 \\\n",
    "    --steps_per_stats=100 \\\n",
    "    --num_layers=2 \\\n",
    "    --num_units=128 \\\n",
    "    --dropout=0.2 \\\n",
    "    --metrics=bleu"
   ]
  },
  {
   "cell_type": "code",
   "execution_count": null,
   "metadata": {},
   "outputs": [],
   "source": [
    "`"
   ]
  }
 ],
 "metadata": {
  "kernelspec": {
   "display_name": "Python [conda env:.conda-fun] *",
   "language": "python",
   "name": "conda-env-.conda-fun-py"
  },
  "language_info": {
   "codemirror_mode": {
    "name": "ipython",
    "version": 3
   },
   "file_extension": ".py",
   "mimetype": "text/x-python",
   "name": "python",
   "nbconvert_exporter": "python",
   "pygments_lexer": "ipython3",
   "version": "3.8.6-final"
  }
 },
 "nbformat": 4,
 "nbformat_minor": 2
}