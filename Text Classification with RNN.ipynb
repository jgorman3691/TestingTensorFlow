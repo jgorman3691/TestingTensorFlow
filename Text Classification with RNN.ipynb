{
 "metadata": {
  "language_info": {
   "codemirror_mode": {
    "name": "ipython",
    "version": 3
   },
   "file_extension": ".py",
   "mimetype": "text/x-python",
   "name": "python",
   "nbconvert_exporter": "python",
   "pygments_lexer": "ipython3",
   "version": "3.8.5-final"
  },
  "orig_nbformat": 2,
  "kernelspec": {
   "name": "Python 3.8.5 64-bit ('fun': conda)",
   "display_name": "Python 3.8.5 64-bit ('fun': conda)",
   "metadata": {
    "interpreter": {
     "hash": "e609142959b83293b8dc96b8326f22d83e09000d4e486361026e0a155a9b8a5d"
    }
   }
  }
 },
 "nbformat": 4,
 "nbformat_minor": 2,
 "cells": [
  {
   "cell_type": "code",
   "execution_count": 1,
   "metadata": {},
   "outputs": [],
   "source": [
    "!pip install -q tfds-nightly"
   ]
  },
  {
   "cell_type": "code",
   "execution_count": 2,
   "metadata": {},
   "outputs": [],
   "source": [
    "import tensorflow_datasets as tfds\n",
    "import tensorflow as tf"
   ]
  },
  {
   "cell_type": "code",
   "execution_count": 3,
   "metadata": {},
   "outputs": [],
   "source": [
    "import matplotlib.pyplot as plt\n",
    "\n",
    "def plot_graphs(history, metric):\n",
    "  plt.plot(history.history[metric])\n",
    "  plt.plot(history.history['val_'+metric], '')\n",
    "  plt.xlabel(\"Epochs\")\n",
    "  plt.ylabel(metric)\n",
    "  plt.legend([metric, 'val_'+metric])\n",
    "  plt.show()"
   ]
  },
  {
   "cell_type": "code",
   "execution_count": 4,
   "metadata": {},
   "outputs": [
    {
     "output_type": "stream",
     "name": "stderr",
     "text": [
      "WARNING:absl:TFDS datasets with text encoding are deprecated and will be removed in a future version. Instead, you should use the plain text version and tokenize the text using `tensorflow_text` (See: https://www.tensorflow.org/tutorials/tensorflow_text/intro#tfdata_example)\n",
      "\u001b[1mDownloading and preparing dataset imdb_reviews/subwords8k/1.0.0 (download: Unknown size, generated: Unknown size, total: Unknown size) to C:\\Users\\jedgo\\tensorflow_datasets\\imdb_reviews\\subwords8k\\1.0.0...\u001b[0m\n",
      "Dl Completed...: 0 url [00:00, ? url/s]\n",
      "Dl Completed...:   0%|          | 0/1 [00:00<?, ? url/s]\n",
      "Dl Completed...:   0%|          | 0/1 [00:00<?, ? url/s]\n",
      "Dl Size...:   0%|          | 0/80 [00:00<?, ? MiB/s]\u001b[A\n",
      "Dl Completed...:   0%|          | 0/1 [00:03<?, ? url/s]\n",
      "Dl Size...:   1%|▏         | 1/80 [00:03<04:16,  3.24s/ MiB]\u001b[A\n",
      "Dl Completed...:   0%|          | 0/1 [00:05<?, ? url/s]\n",
      "Dl Size...:   2%|▎         | 2/80 [00:05<03:49,  2.94s/ MiB]\u001b[A\n",
      "Dl Completed...:   0%|          | 0/1 [00:06<?, ? url/s]\n",
      "Dl Size...:   4%|▍         | 3/80 [00:06<03:01,  2.35s/ MiB]\u001b[A\n",
      "Dl Completed...:   0%|          | 0/1 [00:07<?, ? url/s]\n",
      "Dl Size...:   5%|▌         | 4/80 [00:07<02:18,  1.83s/ MiB]\u001b[A\n",
      "Dl Completed...:   0%|          | 0/1 [00:07<?, ? url/s]\n",
      "Dl Size...:   6%|▋         | 5/80 [00:07<01:45,  1.40s/ MiB]\u001b[A\n",
      "Dl Completed...:   0%|          | 0/1 [00:07<?, ? url/s]\n",
      "Dl Size...:   8%|▊         | 6/80 [00:07<01:21,  1.10s/ MiB]\u001b[A\n",
      "Dl Completed...:   0%|          | 0/1 [00:08<?, ? url/s]\n",
      "Dl Size...:   9%|▉         | 7/80 [00:08<01:04,  1.14 MiB/s]\u001b[A\n",
      "Dl Completed...:   0%|          | 0/1 [00:08<?, ? url/s]\n",
      "Dl Size...:  10%|█         | 8/80 [00:08<00:51,  1.40 MiB/s]\u001b[A\n",
      "Dl Completed...:   0%|          | 0/1 [00:09<?, ? url/s]\n",
      "Dl Size...:  11%|█▏        | 9/80 [00:09<00:45,  1.58 MiB/s]\u001b[A\n",
      "Dl Completed...:   0%|          | 0/1 [00:09<?, ? url/s]\n",
      "Dl Size...:  12%|█▎        | 10/80 [00:09<00:36,  1.91 MiB/s]\u001b[A\n",
      "Dl Completed...:   0%|          | 0/1 [00:09<?, ? url/s]\n",
      "Dl Size...:  14%|█▍        | 11/80 [00:09<00:30,  2.24 MiB/s]\u001b[A\n",
      "Dl Completed...:   0%|          | 0/1 [00:09<?, ? url/s]\n",
      "Dl Size...:  15%|█▌        | 12/80 [00:09<00:27,  2.48 MiB/s]\u001b[A\n",
      "Dl Completed...:   0%|          | 0/1 [00:10<?, ? url/s]\n",
      "Dl Size...:  16%|█▋        | 13/80 [00:10<00:24,  2.79 MiB/s]\u001b[A\n",
      "Dl Completed...:   0%|          | 0/1 [00:10<?, ? url/s]\n",
      "Dl Size...:  18%|█▊        | 14/80 [00:10<00:21,  3.04 MiB/s]\u001b[A\n",
      "Dl Completed...:   0%|          | 0/1 [00:10<?, ? url/s]\n",
      "Dl Size...:  19%|█▉        | 15/80 [00:10<00:20,  3.17 MiB/s]\u001b[A\n",
      "Dl Completed...:   0%|          | 0/1 [00:10<?, ? url/s]\n",
      "Dl Size...:  20%|██        | 16/80 [00:10<00:18,  3.40 MiB/s]\u001b[A\n",
      "Dl Completed...:   0%|          | 0/1 [00:11<?, ? url/s]\n",
      "Dl Size...:  21%|██▏       | 17/80 [00:11<00:19,  3.18 MiB/s]\u001b[A\n",
      "Dl Completed...:   0%|          | 0/1 [00:12<?, ? url/s]\n",
      "Dl Size...:  22%|██▎       | 18/80 [00:12<00:34,  1.80 MiB/s]\u001b[A\n",
      "Dl Completed...:   0%|          | 0/1 [00:12<?, ? url/s]\n",
      "Dl Size...:  24%|██▍       | 19/80 [00:12<00:29,  2.10 MiB/s]\u001b[A\n",
      "Dl Completed...:   0%|          | 0/1 [00:12<?, ? url/s]\n",
      "Dl Size...:  25%|██▌       | 20/80 [00:12<00:25,  2.32 MiB/s]\u001b[A\n",
      "Dl Completed...:   0%|          | 0/1 [00:13<?, ? url/s]\n",
      "Dl Size...:  26%|██▋       | 21/80 [00:13<00:22,  2.62 MiB/s]\u001b[A\n",
      "Dl Completed...:   0%|          | 0/1 [00:13<?, ? url/s]\n",
      "Dl Size...:  28%|██▊       | 22/80 [00:13<00:20,  2.90 MiB/s]\u001b[A\n",
      "Dl Completed...:   0%|          | 0/1 [00:13<?, ? url/s]\n",
      "Dl Size...:  29%|██▉       | 23/80 [00:13<00:18,  3.11 MiB/s]\u001b[A\n",
      "Dl Completed...:   0%|          | 0/1 [00:14<?, ? url/s]\n",
      "Dl Size...:  30%|███       | 24/80 [00:14<00:16,  3.38 MiB/s]\u001b[A\n",
      "Dl Completed...:   0%|          | 0/1 [00:14<?, ? url/s]\n",
      "Dl Size...:  31%|███▏      | 25/80 [00:14<00:15,  3.46 MiB/s]\u001b[A\n",
      "Dl Completed...:   0%|          | 0/1 [00:14<?, ? url/s]\n",
      "Dl Size...:  32%|███▎      | 26/80 [00:14<00:14,  3.64 MiB/s]\u001b[A\n",
      "Dl Completed...:   0%|          | 0/1 [00:14<?, ? url/s]\n",
      "Dl Size...:  34%|███▍      | 27/80 [00:14<00:13,  3.80 MiB/s]\u001b[A\n",
      "Dl Completed...:   0%|          | 0/1 [00:14<?, ? url/s]\n",
      "Dl Size...:  35%|███▌      | 28/80 [00:14<00:13,  3.96 MiB/s]\u001b[A\n",
      "Dl Completed...:   0%|          | 0/1 [00:15<?, ? url/s]\n",
      "Dl Size...:  36%|███▋      | 29/80 [00:15<00:12,  4.02 MiB/s]\u001b[A\n",
      "Dl Completed...:   0%|          | 0/1 [00:15<?, ? url/s]\n",
      "Dl Size...:  38%|███▊      | 30/80 [00:15<00:13,  3.83 MiB/s]\u001b[A\n",
      "Dl Completed...:   0%|          | 0/1 [00:15<?, ? url/s]\n",
      "Dl Size...:  39%|███▉      | 31/80 [00:15<00:11,  4.11 MiB/s]\u001b[A\n",
      "Dl Completed...:   0%|          | 0/1 [00:15<?, ? url/s]\n",
      "Dl Size...:  40%|████      | 32/80 [00:15<00:11,  4.15 MiB/s]\u001b[A\n",
      "Dl Completed...:   0%|          | 0/1 [00:16<?, ? url/s]\n",
      "Dl Size...:  41%|████▏     | 33/80 [00:16<00:11,  4.15 MiB/s]\u001b[A\n",
      "Dl Completed...:   0%|          | 0/1 [00:16<?, ? url/s]\n",
      "Dl Size...:  42%|████▎     | 34/80 [00:16<00:10,  4.24 MiB/s]\u001b[A\n",
      "Dl Completed...:   0%|          | 0/1 [00:16<?, ? url/s]\n",
      "Dl Size...:  44%|████▍     | 35/80 [00:16<00:10,  4.23 MiB/s]\u001b[A\n",
      "Dl Completed...:   0%|          | 0/1 [00:16<?, ? url/s]\n",
      "Dl Size...:  45%|████▌     | 36/80 [00:16<00:10,  4.36 MiB/s]\u001b[A\n",
      "Dl Completed...:   0%|          | 0/1 [00:17<?, ? url/s]\n",
      "Dl Size...:  46%|████▋     | 37/80 [00:17<00:09,  4.38 MiB/s]\u001b[A\n",
      "Dl Completed...:   0%|          | 0/1 [00:17<?, ? url/s]\n",
      "Dl Size...:  48%|████▊     | 38/80 [00:17<00:09,  4.51 MiB/s]\u001b[A\n",
      "Dl Completed...:   0%|          | 0/1 [00:17<?, ? url/s]\n",
      "Dl Size...:  49%|████▉     | 39/80 [00:17<00:12,  3.24 MiB/s]\u001b[A\n",
      "Dl Completed...:   0%|          | 0/1 [00:18<?, ? url/s]\n",
      "Dl Size...:  50%|█████     | 40/80 [00:18<00:14,  2.82 MiB/s]\u001b[A\n",
      "Dl Completed...:   0%|          | 0/1 [00:18<?, ? url/s]\n",
      "Dl Size...:  51%|█████▏    | 41/80 [00:18<00:13,  2.83 MiB/s]\u001b[A\n",
      "Dl Completed...:   0%|          | 0/1 [00:19<?, ? url/s]\n",
      "Dl Size...:  52%|█████▎    | 42/80 [00:19<00:16,  2.35 MiB/s]\u001b[A\n",
      "Dl Completed...:   0%|          | 0/1 [00:19<?, ? url/s]\n",
      "Dl Size...:  54%|█████▍    | 43/80 [00:19<00:14,  2.62 MiB/s]\u001b[A\n",
      "Dl Completed...:   0%|          | 0/1 [00:19<?, ? url/s]\n",
      "Dl Size...:  55%|█████▌    | 44/80 [00:19<00:13,  2.71 MiB/s]\u001b[A\n",
      "Dl Completed...:   0%|          | 0/1 [00:20<?, ? url/s]\n",
      "Dl Size...:  56%|█████▋    | 45/80 [00:20<00:12,  2.79 MiB/s]\u001b[A\n",
      "Dl Completed...:   0%|          | 0/1 [00:20<?, ? url/s]\n",
      "Dl Size...:  57%|█████▊    | 46/80 [00:20<00:11,  3.05 MiB/s]\u001b[A\n",
      "Dl Completed...:   0%|          | 0/1 [00:20<?, ? url/s]\n",
      "Dl Size...:  59%|█████▉    | 47/80 [00:20<00:09,  3.39 MiB/s]\u001b[A\n",
      "Dl Completed...:   0%|          | 0/1 [00:20<?, ? url/s]\n",
      "Dl Size...:  60%|██████    | 48/80 [00:20<00:08,  3.62 MiB/s]\u001b[A\n",
      "Dl Completed...:   0%|          | 0/1 [00:21<?, ? url/s]\n",
      "Dl Size...:  61%|██████▏   | 49/80 [00:21<00:08,  3.73 MiB/s]\u001b[A\n",
      "Dl Completed...:   0%|          | 0/1 [00:21<?, ? url/s]\n",
      "Dl Size...:  62%|██████▎   | 50/80 [00:21<00:07,  3.96 MiB/s]\u001b[A\n",
      "Dl Completed...:   0%|          | 0/1 [00:21<?, ? url/s]\n",
      "Dl Size...:  64%|██████▍   | 51/80 [00:21<00:07,  4.05 MiB/s]\u001b[A\n",
      "Dl Completed...:   0%|          | 0/1 [00:21<?, ? url/s]\n",
      "Dl Size...:  65%|██████▌   | 52/80 [00:21<00:06,  4.25 MiB/s]\u001b[A\n",
      "Dl Completed...:   0%|          | 0/1 [00:22<?, ? url/s]\n",
      "Dl Size...:  66%|██████▋   | 53/80 [00:22<00:06,  4.23 MiB/s]\u001b[A\n",
      "Dl Completed...:   0%|          | 0/1 [00:22<?, ? url/s]\n",
      "Dl Size...:  68%|██████▊   | 54/80 [00:22<00:06,  4.21 MiB/s]\u001b[A\n",
      "Dl Completed...:   0%|          | 0/1 [00:22<?, ? url/s]\n",
      "Dl Size...:  69%|██████▉   | 55/80 [00:22<00:05,  4.31 MiB/s]\u001b[A\n",
      "Dl Completed...:   0%|          | 0/1 [00:22<?, ? url/s]\n",
      "Dl Size...:  70%|███████   | 56/80 [00:22<00:05,  4.36 MiB/s]\u001b[A\n",
      "Dl Completed...:   0%|          | 0/1 [00:22<?, ? url/s]\n",
      "Dl Size...:  71%|███████▏  | 57/80 [00:22<00:05,  4.44 MiB/s]\u001b[A\n",
      "Dl Completed...:   0%|          | 0/1 [00:23<?, ? url/s]\n",
      "Dl Size...:  72%|███████▎  | 58/80 [00:23<00:04,  4.46 MiB/s]\u001b[A\n",
      "Dl Completed...:   0%|          | 0/1 [00:23<?, ? url/s]\n",
      "Dl Size...:  74%|███████▍  | 59/80 [00:23<00:04,  4.39 MiB/s]\u001b[A\n",
      "Dl Completed...:   0%|          | 0/1 [00:23<?, ? url/s]\n",
      "Dl Size...:  75%|███████▌  | 60/80 [00:23<00:04,  4.46 MiB/s]\u001b[A\n",
      "Dl Completed...:   0%|          | 0/1 [00:23<?, ? url/s]\n",
      "Dl Size...:  76%|███████▋  | 61/80 [00:23<00:04,  4.53 MiB/s]\u001b[A\n",
      "Dl Completed...:   0%|          | 0/1 [00:24<?, ? url/s]\n",
      "Dl Size...:  78%|███████▊  | 62/80 [00:24<00:04,  4.40 MiB/s]\u001b[A\n",
      "Dl Completed...:   0%|          | 0/1 [00:24<?, ? url/s]\n",
      "Dl Size...:  79%|███████▉  | 63/80 [00:24<00:04,  3.81 MiB/s]\u001b[A\n",
      "Dl Completed...:   0%|          | 0/1 [00:24<?, ? url/s]\n",
      "Dl Size...:  80%|████████  | 64/80 [00:24<00:05,  3.11 MiB/s]\u001b[A\n",
      "Dl Completed...:   0%|          | 0/1 [00:25<?, ? url/s]\n",
      "Dl Size...:  81%|████████▏ | 65/80 [00:25<00:04,  3.07 MiB/s]\u001b[A\n",
      "Dl Completed...:   0%|          | 0/1 [00:25<?, ? url/s]\n",
      "Dl Size...:  82%|████████▎ | 66/80 [00:25<00:04,  2.83 MiB/s]\u001b[A\n",
      "Dl Completed...:   0%|          | 0/1 [00:26<?, ? url/s]\n",
      "Dl Size...:  84%|████████▍ | 67/80 [00:26<00:04,  2.70 MiB/s]\u001b[A\n",
      "Dl Completed...:   0%|          | 0/1 [00:26<?, ? url/s]\n",
      "Dl Size...:  85%|████████▌ | 68/80 [00:26<00:04,  2.79 MiB/s]\u001b[A\n",
      "Dl Completed...:   0%|          | 0/1 [00:26<?, ? url/s]\n",
      "Dl Size...:  86%|████████▋ | 69/80 [00:26<00:03,  3.07 MiB/s]\u001b[A\n",
      "Dl Completed...:   0%|          | 0/1 [00:26<?, ? url/s]\n",
      "Dl Size...:  88%|████████▊ | 70/80 [00:26<00:03,  3.23 MiB/s]\u001b[A\n",
      "Dl Completed...:   0%|          | 0/1 [00:27<?, ? url/s]\n",
      "Dl Size...:  89%|████████▉ | 71/80 [00:27<00:02,  3.44 MiB/s]\u001b[A\n",
      "Dl Completed...:   0%|          | 0/1 [00:27<?, ? url/s]\n",
      "Dl Size...:  90%|█████████ | 72/80 [00:27<00:02,  3.56 MiB/s]\u001b[A\n",
      "Dl Completed...:   0%|          | 0/1 [00:27<?, ? url/s]\n",
      "Dl Size...:  91%|█████████▏| 73/80 [00:27<00:01,  3.75 MiB/s]\u001b[A\n",
      "Dl Completed...:   0%|          | 0/1 [00:27<?, ? url/s]\n",
      "Dl Size...:  92%|█████████▎| 74/80 [00:27<00:01,  3.71 MiB/s]\u001b[A\n",
      "Dl Completed...:   0%|          | 0/1 [00:28<?, ? url/s]\n",
      "Dl Size...:  94%|█████████▍| 75/80 [00:28<00:01,  3.67 MiB/s]\u001b[A\n",
      "Dl Completed...:   0%|          | 0/1 [00:28<?, ? url/s]\n",
      "Dl Size...:  95%|█████████▌| 76/80 [00:28<00:01,  3.76 MiB/s]\u001b[A\n",
      "Dl Completed...:   0%|          | 0/1 [00:28<?, ? url/s]\n",
      "Dl Size...:  96%|█████████▋| 77/80 [00:28<00:00,  3.83 MiB/s]\u001b[A\n",
      "Dl Completed...:   0%|          | 0/1 [00:28<?, ? url/s]\n",
      "Dl Size...:  98%|█████████▊| 78/80 [00:28<00:00,  3.91 MiB/s]\u001b[A\n",
      "Dl Completed...:   0%|          | 0/1 [00:29<?, ? url/s]\n",
      "Dl Size...:  99%|█████████▉| 79/80 [00:29<00:00,  4.02 MiB/s]\u001b[A\n",
      "Dl Completed...:   0%|          | 0/1 [00:29<?, ? url/s]\n",
      "Dl Completed...: 100%|██████████| 1/1 [00:29<00:00, 29.51s/ url]\n",
      "Dl Size...: 100%|██████████| 80/80 [00:29<00:00,  2.71 MiB/s]\n",
      "Dl Completed...: 100%|██████████| 1/1 [00:29<00:00, 29.52s/ url]\n",
      "\n",
      "\n",
      " 63%|██████▎   | 15700/25000 [00:00<00:00, 75844.53 examples/s]Shuffling and writing examples to C:\\Users\\jedgo\\tensorflow_datasets\\imdb_reviews\\subwords8k\\1.0.0.incompleteC80QWI\\imdb_reviews-train.tfrecord\n",
      " 63%|██████▎   | 15793/25000 [00:00<00:00, 75068.59 examples/s]Shuffling and writing examples to C:\\Users\\jedgo\\tensorflow_datasets\\imdb_reviews\\subwords8k\\1.0.0.incompleteC80QWI\\imdb_reviews-test.tfrecord\n",
      " 28%|██▊       | 14075/50000 [00:00<00:00, 62033.20 examples/s]Shuffling and writing examples to C:\\Users\\jedgo\\tensorflow_datasets\\imdb_reviews\\subwords8k\\1.0.0.incompleteC80QWI\\imdb_reviews-unsupervised.tfrecord\n",
      "WARNING:absl:Dataset is using deprecated text encoder API which will be removed soon. Please use the plain_text version of the dataset and migrate to `tensorflow_text`.\n",
      "\u001b[1mDataset imdb_reviews downloaded and prepared to C:\\Users\\jedgo\\tensorflow_datasets\\imdb_reviews\\subwords8k\\1.0.0. Subsequent calls will reuse this data.\u001b[0m\n"
     ]
    }
   ],
   "source": [
    "dataset, info = tfds.load('imdb_reviews/subwords8k', with_info=True, as_supervised=True)\n",
    "train_dataset, test_dataset = dataset['train'], dataset['test']"
   ]
  },
  {
   "cell_type": "code",
   "execution_count": 7,
   "metadata": {},
   "outputs": [],
   "source": [
    "encoder = info.features['text'].encoder"
   ]
  },
  {
   "cell_type": "code",
   "execution_count": 8,
   "metadata": {},
   "outputs": [
    {
     "output_type": "stream",
     "name": "stdout",
     "text": [
      "Vocabulary size 8185\n"
     ]
    }
   ],
   "source": [
    "print('Vocabulary size {}'.format(encoder.vocab_size))"
   ]
  },
  {
   "cell_type": "code",
   "execution_count": 9,
   "metadata": {},
   "outputs": [
    {
     "output_type": "stream",
     "name": "stdout",
     "text": [
      "Encoded string is [4025, 222, 6307, 2327, 2934, 7975]\nThe original string: \"Hello Tensorflow.\"\"\n"
     ]
    }
   ],
   "source": [
    "sample_string = 'Hello Tensorflow.'\n",
    "\n",
    "encoded_string = encoder.encode(sample_string)\n",
    "print('Encoded string is {}'.format(encoded_string))\n",
    "\n",
    "original_string = encoder.decode(encoded_string)\n",
    "print('The original string: \"{}\"\"'.format(original_string))"
   ]
  },
  {
   "cell_type": "code",
   "execution_count": 10,
   "metadata": {},
   "outputs": [],
   "source": [
    "assert original_string == sample_string"
   ]
  },
  {
   "cell_type": "code",
   "execution_count": 11,
   "metadata": {},
   "outputs": [
    {
     "output_type": "stream",
     "name": "stdout",
     "text": [
      "4025 ----> Hell\n222 ----> o \n6307 ----> Ten\n2327 ----> sor\n2934 ----> flow\n7975 ----> .\n"
     ]
    }
   ],
   "source": [
    "for index in encoded_string:\n",
    "    print('{} ----> {}'.format(index, encoder.decode([index])))"
   ]
  },
  {
   "cell_type": "code",
   "execution_count": 12,
   "metadata": {},
   "outputs": [],
   "source": [
    "BUFFER_SIZE = 10000\n",
    "BATCH_SIZE = 64"
   ]
  },
  {
   "cell_type": "code",
   "execution_count": 13,
   "metadata": {},
   "outputs": [],
   "source": [
    "train_dataset = train_dataset.shuffle(BUFFER_SIZE)\n",
    "train_dataset = train_dataset.padded_batch(BATCH_SIZE)\n",
    "\n",
    "test_dataset = test_dataset.padded_batch(BATCH_SIZE)"
   ]
  },
  {
   "cell_type": "code",
   "execution_count": 14,
   "metadata": {},
   "outputs": [],
   "source": [
    "model = tf.keras.Sequential([\n",
    "    tf.keras.layers.Embedding(encoder.vocab_size, 64),\n",
    "    tf.keras.layers.Bidirectional(tf.keras.layers.LSTM(64)),\n",
    "    tf.keras.layers.Dense(64, activation='relu'),\n",
    "    tf.keras.layers.Dense(1)\n",
    "])"
   ]
  },
  {
   "cell_type": "code",
   "execution_count": 15,
   "metadata": {},
   "outputs": [],
   "source": [
    "model.compile(loss=tf.keras.losses.BinaryCrossentropy(from_logits=True),\n",
    "    optimizer=tf.keras.optimizers.Adam(1e-4),\n",
    "    metrics=['accuracy']\n",
    ")"
   ]
  },
  {
   "cell_type": "code",
   "execution_count": null,
   "metadata": {},
   "outputs": [],
   "source": [
    "model.summary()"
   ]
  },
  {
   "cell_type": "code",
   "execution_count": 17,
   "metadata": {},
   "outputs": [
    {
     "output_type": "stream",
     "name": "stdout",
     "text": [
      "Epoch 1/10\n",
      " 13/391 [..............................] - ETA: 1:14 - loss: 0.6930 - accuracy: 0.5024"
     ]
    },
    {
     "output_type": "error",
     "ename": "CancelledError",
     "evalue": " [_Derived_]RecvAsync is cancelled.\n\t [[{{node gradient_tape/sequential/embedding/embedding_lookup/Reshape/_38}}]] [Op:__inference_train_function_5998]\n\nFunction call stack:\ntrain_function\n",
     "traceback": [
      "\u001b[1;31m---------------------------------------------------------------------------\u001b[0m",
      "\u001b[1;31mCancelledError\u001b[0m                            Traceback (most recent call last)",
      "\u001b[1;32m<ipython-input-17-a12d039d9d09>\u001b[0m in \u001b[0;36m<module>\u001b[1;34m\u001b[0m\n\u001b[1;32m----> 1\u001b[1;33m \u001b[0mhistory\u001b[0m \u001b[1;33m=\u001b[0m \u001b[0mmodel\u001b[0m\u001b[1;33m.\u001b[0m\u001b[0mfit\u001b[0m\u001b[1;33m(\u001b[0m\u001b[0mtrain_dataset\u001b[0m\u001b[1;33m,\u001b[0m \u001b[0mepochs\u001b[0m\u001b[1;33m=\u001b[0m\u001b[1;36m10\u001b[0m\u001b[1;33m,\u001b[0m \u001b[0mvalidation_data\u001b[0m\u001b[1;33m=\u001b[0m\u001b[0mtest_dataset\u001b[0m\u001b[1;33m,\u001b[0m \u001b[0mvalidation_steps\u001b[0m\u001b[1;33m=\u001b[0m\u001b[1;36m30\u001b[0m\u001b[1;33m)\u001b[0m\u001b[1;33m\u001b[0m\u001b[1;33m\u001b[0m\u001b[0m\n\u001b[0m",
      "\u001b[1;32m~\\.conda\\envs\\fun\\lib\\site-packages\\tensorflow\\python\\keras\\engine\\training.py\u001b[0m in \u001b[0;36m_method_wrapper\u001b[1;34m(self, *args, **kwargs)\u001b[0m\n\u001b[0;32m    106\u001b[0m   \u001b[1;32mdef\u001b[0m \u001b[0m_method_wrapper\u001b[0m\u001b[1;33m(\u001b[0m\u001b[0mself\u001b[0m\u001b[1;33m,\u001b[0m \u001b[1;33m*\u001b[0m\u001b[0margs\u001b[0m\u001b[1;33m,\u001b[0m \u001b[1;33m**\u001b[0m\u001b[0mkwargs\u001b[0m\u001b[1;33m)\u001b[0m\u001b[1;33m:\u001b[0m\u001b[1;33m\u001b[0m\u001b[1;33m\u001b[0m\u001b[0m\n\u001b[0;32m    107\u001b[0m     \u001b[1;32mif\u001b[0m \u001b[1;32mnot\u001b[0m \u001b[0mself\u001b[0m\u001b[1;33m.\u001b[0m\u001b[0m_in_multi_worker_mode\u001b[0m\u001b[1;33m(\u001b[0m\u001b[1;33m)\u001b[0m\u001b[1;33m:\u001b[0m  \u001b[1;31m# pylint: disable=protected-access\u001b[0m\u001b[1;33m\u001b[0m\u001b[1;33m\u001b[0m\u001b[0m\n\u001b[1;32m--> 108\u001b[1;33m       \u001b[1;32mreturn\u001b[0m \u001b[0mmethod\u001b[0m\u001b[1;33m(\u001b[0m\u001b[0mself\u001b[0m\u001b[1;33m,\u001b[0m \u001b[1;33m*\u001b[0m\u001b[0margs\u001b[0m\u001b[1;33m,\u001b[0m \u001b[1;33m**\u001b[0m\u001b[0mkwargs\u001b[0m\u001b[1;33m)\u001b[0m\u001b[1;33m\u001b[0m\u001b[1;33m\u001b[0m\u001b[0m\n\u001b[0m\u001b[0;32m    109\u001b[0m \u001b[1;33m\u001b[0m\u001b[0m\n\u001b[0;32m    110\u001b[0m     \u001b[1;31m# Running inside `run_distribute_coordinator` already.\u001b[0m\u001b[1;33m\u001b[0m\u001b[1;33m\u001b[0m\u001b[1;33m\u001b[0m\u001b[0m\n",
      "\u001b[1;32m~\\.conda\\envs\\fun\\lib\\site-packages\\tensorflow\\python\\keras\\engine\\training.py\u001b[0m in \u001b[0;36mfit\u001b[1;34m(self, x, y, batch_size, epochs, verbose, callbacks, validation_split, validation_data, shuffle, class_weight, sample_weight, initial_epoch, steps_per_epoch, validation_steps, validation_batch_size, validation_freq, max_queue_size, workers, use_multiprocessing)\u001b[0m\n\u001b[0;32m   1096\u001b[0m                 batch_size=batch_size):\n\u001b[0;32m   1097\u001b[0m               \u001b[0mcallbacks\u001b[0m\u001b[1;33m.\u001b[0m\u001b[0mon_train_batch_begin\u001b[0m\u001b[1;33m(\u001b[0m\u001b[0mstep\u001b[0m\u001b[1;33m)\u001b[0m\u001b[1;33m\u001b[0m\u001b[1;33m\u001b[0m\u001b[0m\n\u001b[1;32m-> 1098\u001b[1;33m               \u001b[0mtmp_logs\u001b[0m \u001b[1;33m=\u001b[0m \u001b[0mtrain_function\u001b[0m\u001b[1;33m(\u001b[0m\u001b[0miterator\u001b[0m\u001b[1;33m)\u001b[0m\u001b[1;33m\u001b[0m\u001b[1;33m\u001b[0m\u001b[0m\n\u001b[0m\u001b[0;32m   1099\u001b[0m               \u001b[1;32mif\u001b[0m \u001b[0mdata_handler\u001b[0m\u001b[1;33m.\u001b[0m\u001b[0mshould_sync\u001b[0m\u001b[1;33m:\u001b[0m\u001b[1;33m\u001b[0m\u001b[1;33m\u001b[0m\u001b[0m\n\u001b[0;32m   1100\u001b[0m                 \u001b[0mcontext\u001b[0m\u001b[1;33m.\u001b[0m\u001b[0masync_wait\u001b[0m\u001b[1;33m(\u001b[0m\u001b[1;33m)\u001b[0m\u001b[1;33m\u001b[0m\u001b[1;33m\u001b[0m\u001b[0m\n",
      "\u001b[1;32m~\\.conda\\envs\\fun\\lib\\site-packages\\tensorflow\\python\\eager\\def_function.py\u001b[0m in \u001b[0;36m__call__\u001b[1;34m(self, *args, **kwds)\u001b[0m\n\u001b[0;32m    778\u001b[0m       \u001b[1;32melse\u001b[0m\u001b[1;33m:\u001b[0m\u001b[1;33m\u001b[0m\u001b[1;33m\u001b[0m\u001b[0m\n\u001b[0;32m    779\u001b[0m         \u001b[0mcompiler\u001b[0m \u001b[1;33m=\u001b[0m \u001b[1;34m\"nonXla\"\u001b[0m\u001b[1;33m\u001b[0m\u001b[1;33m\u001b[0m\u001b[0m\n\u001b[1;32m--> 780\u001b[1;33m         \u001b[0mresult\u001b[0m \u001b[1;33m=\u001b[0m \u001b[0mself\u001b[0m\u001b[1;33m.\u001b[0m\u001b[0m_call\u001b[0m\u001b[1;33m(\u001b[0m\u001b[1;33m*\u001b[0m\u001b[0margs\u001b[0m\u001b[1;33m,\u001b[0m \u001b[1;33m**\u001b[0m\u001b[0mkwds\u001b[0m\u001b[1;33m)\u001b[0m\u001b[1;33m\u001b[0m\u001b[1;33m\u001b[0m\u001b[0m\n\u001b[0m\u001b[0;32m    781\u001b[0m \u001b[1;33m\u001b[0m\u001b[0m\n\u001b[0;32m    782\u001b[0m       \u001b[0mnew_tracing_count\u001b[0m \u001b[1;33m=\u001b[0m \u001b[0mself\u001b[0m\u001b[1;33m.\u001b[0m\u001b[0m_get_tracing_count\u001b[0m\u001b[1;33m(\u001b[0m\u001b[1;33m)\u001b[0m\u001b[1;33m\u001b[0m\u001b[1;33m\u001b[0m\u001b[0m\n",
      "\u001b[1;32m~\\.conda\\envs\\fun\\lib\\site-packages\\tensorflow\\python\\eager\\def_function.py\u001b[0m in \u001b[0;36m_call\u001b[1;34m(self, *args, **kwds)\u001b[0m\n\u001b[0;32m    805\u001b[0m       \u001b[1;31m# In this case we have created variables on the first call, so we run the\u001b[0m\u001b[1;33m\u001b[0m\u001b[1;33m\u001b[0m\u001b[1;33m\u001b[0m\u001b[0m\n\u001b[0;32m    806\u001b[0m       \u001b[1;31m# defunned version which is guaranteed to never create variables.\u001b[0m\u001b[1;33m\u001b[0m\u001b[1;33m\u001b[0m\u001b[1;33m\u001b[0m\u001b[0m\n\u001b[1;32m--> 807\u001b[1;33m       \u001b[1;32mreturn\u001b[0m \u001b[0mself\u001b[0m\u001b[1;33m.\u001b[0m\u001b[0m_stateless_fn\u001b[0m\u001b[1;33m(\u001b[0m\u001b[1;33m*\u001b[0m\u001b[0margs\u001b[0m\u001b[1;33m,\u001b[0m \u001b[1;33m**\u001b[0m\u001b[0mkwds\u001b[0m\u001b[1;33m)\u001b[0m  \u001b[1;31m# pylint: disable=not-callable\u001b[0m\u001b[1;33m\u001b[0m\u001b[1;33m\u001b[0m\u001b[0m\n\u001b[0m\u001b[0;32m    808\u001b[0m     \u001b[1;32melif\u001b[0m \u001b[0mself\u001b[0m\u001b[1;33m.\u001b[0m\u001b[0m_stateful_fn\u001b[0m \u001b[1;32mis\u001b[0m \u001b[1;32mnot\u001b[0m \u001b[1;32mNone\u001b[0m\u001b[1;33m:\u001b[0m\u001b[1;33m\u001b[0m\u001b[1;33m\u001b[0m\u001b[0m\n\u001b[0;32m    809\u001b[0m       \u001b[1;31m# Release the lock early so that multiple threads can perform the call\u001b[0m\u001b[1;33m\u001b[0m\u001b[1;33m\u001b[0m\u001b[1;33m\u001b[0m\u001b[0m\n",
      "\u001b[1;32m~\\.conda\\envs\\fun\\lib\\site-packages\\tensorflow\\python\\eager\\function.py\u001b[0m in \u001b[0;36m__call__\u001b[1;34m(self, *args, **kwargs)\u001b[0m\n\u001b[0;32m   2827\u001b[0m     \u001b[1;32mwith\u001b[0m \u001b[0mself\u001b[0m\u001b[1;33m.\u001b[0m\u001b[0m_lock\u001b[0m\u001b[1;33m:\u001b[0m\u001b[1;33m\u001b[0m\u001b[1;33m\u001b[0m\u001b[0m\n\u001b[0;32m   2828\u001b[0m       \u001b[0mgraph_function\u001b[0m\u001b[1;33m,\u001b[0m \u001b[0margs\u001b[0m\u001b[1;33m,\u001b[0m \u001b[0mkwargs\u001b[0m \u001b[1;33m=\u001b[0m \u001b[0mself\u001b[0m\u001b[1;33m.\u001b[0m\u001b[0m_maybe_define_function\u001b[0m\u001b[1;33m(\u001b[0m\u001b[0margs\u001b[0m\u001b[1;33m,\u001b[0m \u001b[0mkwargs\u001b[0m\u001b[1;33m)\u001b[0m\u001b[1;33m\u001b[0m\u001b[1;33m\u001b[0m\u001b[0m\n\u001b[1;32m-> 2829\u001b[1;33m     \u001b[1;32mreturn\u001b[0m \u001b[0mgraph_function\u001b[0m\u001b[1;33m.\u001b[0m\u001b[0m_filtered_call\u001b[0m\u001b[1;33m(\u001b[0m\u001b[0margs\u001b[0m\u001b[1;33m,\u001b[0m \u001b[0mkwargs\u001b[0m\u001b[1;33m)\u001b[0m  \u001b[1;31m# pylint: disable=protected-access\u001b[0m\u001b[1;33m\u001b[0m\u001b[1;33m\u001b[0m\u001b[0m\n\u001b[0m\u001b[0;32m   2830\u001b[0m \u001b[1;33m\u001b[0m\u001b[0m\n\u001b[0;32m   2831\u001b[0m   \u001b[1;33m@\u001b[0m\u001b[0mproperty\u001b[0m\u001b[1;33m\u001b[0m\u001b[1;33m\u001b[0m\u001b[0m\n",
      "\u001b[1;32m~\\.conda\\envs\\fun\\lib\\site-packages\\tensorflow\\python\\eager\\function.py\u001b[0m in \u001b[0;36m_filtered_call\u001b[1;34m(self, args, kwargs, cancellation_manager)\u001b[0m\n\u001b[0;32m   1841\u001b[0m       \u001b[0;31m`\u001b[0m\u001b[0margs\u001b[0m\u001b[0;31m`\u001b[0m \u001b[1;32mand\u001b[0m\u001b[0;31m \u001b[0m\u001b[0;31m`\u001b[0m\u001b[0mkwargs\u001b[0m\u001b[0;31m`\u001b[0m\u001b[1;33m.\u001b[0m\u001b[1;33m\u001b[0m\u001b[1;33m\u001b[0m\u001b[0m\n\u001b[0;32m   1842\u001b[0m     \"\"\"\n\u001b[1;32m-> 1843\u001b[1;33m     return self._call_flat(\n\u001b[0m\u001b[0;32m   1844\u001b[0m         [t for t in nest.flatten((args, kwargs), expand_composites=True)\n\u001b[0;32m   1845\u001b[0m          if isinstance(t, (ops.Tensor,\n",
      "\u001b[1;32m~\\.conda\\envs\\fun\\lib\\site-packages\\tensorflow\\python\\eager\\function.py\u001b[0m in \u001b[0;36m_call_flat\u001b[1;34m(self, args, captured_inputs, cancellation_manager)\u001b[0m\n\u001b[0;32m   1921\u001b[0m         and executing_eagerly):\n\u001b[0;32m   1922\u001b[0m       \u001b[1;31m# No tape is watching; skip to running the function.\u001b[0m\u001b[1;33m\u001b[0m\u001b[1;33m\u001b[0m\u001b[1;33m\u001b[0m\u001b[0m\n\u001b[1;32m-> 1923\u001b[1;33m       return self._build_call_outputs(self._inference_function.call(\n\u001b[0m\u001b[0;32m   1924\u001b[0m           ctx, args, cancellation_manager=cancellation_manager))\n\u001b[0;32m   1925\u001b[0m     forward_backward = self._select_forward_and_backward_functions(\n",
      "\u001b[1;32m~\\.conda\\envs\\fun\\lib\\site-packages\\tensorflow\\python\\eager\\function.py\u001b[0m in \u001b[0;36mcall\u001b[1;34m(self, ctx, args, cancellation_manager)\u001b[0m\n\u001b[0;32m    543\u001b[0m       \u001b[1;32mwith\u001b[0m \u001b[0m_InterpolateFunctionError\u001b[0m\u001b[1;33m(\u001b[0m\u001b[0mself\u001b[0m\u001b[1;33m)\u001b[0m\u001b[1;33m:\u001b[0m\u001b[1;33m\u001b[0m\u001b[1;33m\u001b[0m\u001b[0m\n\u001b[0;32m    544\u001b[0m         \u001b[1;32mif\u001b[0m \u001b[0mcancellation_manager\u001b[0m \u001b[1;32mis\u001b[0m \u001b[1;32mNone\u001b[0m\u001b[1;33m:\u001b[0m\u001b[1;33m\u001b[0m\u001b[1;33m\u001b[0m\u001b[0m\n\u001b[1;32m--> 545\u001b[1;33m           outputs = execute.execute(\n\u001b[0m\u001b[0;32m    546\u001b[0m               \u001b[0mstr\u001b[0m\u001b[1;33m(\u001b[0m\u001b[0mself\u001b[0m\u001b[1;33m.\u001b[0m\u001b[0msignature\u001b[0m\u001b[1;33m.\u001b[0m\u001b[0mname\u001b[0m\u001b[1;33m)\u001b[0m\u001b[1;33m,\u001b[0m\u001b[1;33m\u001b[0m\u001b[1;33m\u001b[0m\u001b[0m\n\u001b[0;32m    547\u001b[0m               \u001b[0mnum_outputs\u001b[0m\u001b[1;33m=\u001b[0m\u001b[0mself\u001b[0m\u001b[1;33m.\u001b[0m\u001b[0m_num_outputs\u001b[0m\u001b[1;33m,\u001b[0m\u001b[1;33m\u001b[0m\u001b[1;33m\u001b[0m\u001b[0m\n",
      "\u001b[1;32m~\\.conda\\envs\\fun\\lib\\site-packages\\tensorflow\\python\\eager\\execute.py\u001b[0m in \u001b[0;36mquick_execute\u001b[1;34m(op_name, num_outputs, inputs, attrs, ctx, name)\u001b[0m\n\u001b[0;32m     57\u001b[0m   \u001b[1;32mtry\u001b[0m\u001b[1;33m:\u001b[0m\u001b[1;33m\u001b[0m\u001b[1;33m\u001b[0m\u001b[0m\n\u001b[0;32m     58\u001b[0m     \u001b[0mctx\u001b[0m\u001b[1;33m.\u001b[0m\u001b[0mensure_initialized\u001b[0m\u001b[1;33m(\u001b[0m\u001b[1;33m)\u001b[0m\u001b[1;33m\u001b[0m\u001b[1;33m\u001b[0m\u001b[0m\n\u001b[1;32m---> 59\u001b[1;33m     tensors = pywrap_tfe.TFE_Py_Execute(ctx._handle, device_name, op_name,\n\u001b[0m\u001b[0;32m     60\u001b[0m                                         inputs, attrs, num_outputs)\n\u001b[0;32m     61\u001b[0m   \u001b[1;32mexcept\u001b[0m \u001b[0mcore\u001b[0m\u001b[1;33m.\u001b[0m\u001b[0m_NotOkStatusException\u001b[0m \u001b[1;32mas\u001b[0m \u001b[0me\u001b[0m\u001b[1;33m:\u001b[0m\u001b[1;33m\u001b[0m\u001b[1;33m\u001b[0m\u001b[0m\n",
      "\u001b[1;31mCancelledError\u001b[0m:  [_Derived_]RecvAsync is cancelled.\n\t [[{{node gradient_tape/sequential/embedding/embedding_lookup/Reshape/_38}}]] [Op:__inference_train_function_5998]\n\nFunction call stack:\ntrain_function\n"
     ]
    }
   ],
   "source": [
    "history = model.fit(train_dataset, epochs=10, validation_data=test_dataset, validation_steps=30)"
   ]
  },
  {
   "cell_type": "code",
   "execution_count": null,
   "metadata": {},
   "outputs": [],
   "source": []
  }
 ]
}